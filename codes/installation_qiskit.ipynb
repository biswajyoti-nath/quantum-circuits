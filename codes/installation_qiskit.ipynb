{
 "cells": [
  {
   "cell_type": "code",
   "execution_count": null,
   "metadata": {},
   "outputs": [],
   "source": [
    "import os\n",
    "from dotenv import load_dotenv\n",
    "from qiskit_ibm_runtime import QiskitRuntimeService\n",
    "\n",
    "# Load secure values from .env\n",
    "load_dotenv()\n",
    "token = os.getenv(\"QISKIT_IBM_TOKEN\")  # Use the new API key variable\n",
    "instance = os.getenv(\"QISKIT_IBM_INSTANCE\")  # Update if you have a new instance string\n",
    "\n",
    "# Connect to IBM Quantum Platform (no channel argument needed for new API)\n",
    "service = QiskitRuntimeService(\n",
    "    channel=\"ibm_quantum_platform\",\n",
    "    token=token,\n",
    "    instance=instance\n",
    ")\n",
    "\n",
    "# Optional: Save for future sessions\n",
    "QiskitRuntimeService.save_account(\n",
    "    token=token,\n",
    "    instance=instance,\n",
    "    overwrite=True\n",
    ")\n",
    "\n",
    "print(\"Connection successful.\")\n"
   ]
  }
 ],
 "metadata": {
  "kernelspec": {
   "display_name": "cwq",
   "language": "python",
   "name": "python3"
  },
  "language_info": {
   "codemirror_mode": {
    "name": "ipython",
    "version": 3
   },
   "file_extension": ".py",
   "mimetype": "text/x-python",
   "name": "python",
   "nbconvert_exporter": "python",
   "pygments_lexer": "ipython3",
   "version": "3.13.2"
  }
 },
 "nbformat": 4,
 "nbformat_minor": 5
}
