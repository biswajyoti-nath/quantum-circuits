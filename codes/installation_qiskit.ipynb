{
 "cells": [
  {
   "cell_type": "code",
   "execution_count": 3,
   "id": "cd0cc9a9",
   "metadata": {},
   "outputs": [],
   "source": [
    "import qiskit"
   ]
  },
  {
   "cell_type": "code",
   "execution_count": null,
   "id": "d1233903",
   "metadata": {},
   "outputs": [
    {
     "data": {
      "text/plain": [
       "'2.0.0'"
      ]
     },
     "execution_count": 4,
     "metadata": {},
     "output_type": "execute_result"
    }
   ],
   "source": [
    "qiskit.__version__"
   ]
  },
  {
   "cell_type": "code",
   "execution_count": 7,
   "id": "acecf605",
   "metadata": {},
   "outputs": [
    {
     "name": "stderr",
     "output_type": "stream",
     "text": [
      "C:\\Users\\Biswajyoti Nath\\AppData\\Local\\Temp\\ipykernel_2280\\2796118579.py:3: DeprecationWarning: The \"ibm_quantum\" channel option is deprecated and will be sunset on 1 July. After this date, ibm_cloud will be the only valid channel. For information on migrating to the new IBM Quantum Platform on the \"ibm_cloud\" channel, review the migration guide https://quantum.cloud.ibm.com/docs/migration-guides/classic-iqp-to-cloud-iqp .\n",
      "  service = QiskitRuntimeService(channel=\"ibm_quantum\", # ibm_cloud\n"
     ]
    }
   ],
   "source": [
    "from qiskit_ibm_runtime import QiskitRuntimeService\n",
    "\n",
    "service = QiskitRuntimeService(channel=\"ibm_quantum\", # ibm_cloud\n",
    "                    token = 'a0ae3da9557c2593174ea52d7a82229eda14a3c37df3522b52aa4bbcfa09dbc58ae80f8d44ba401c3af457d6802799642148b270166af496e1d77aec9509db74')"
   ]
  },
  {
   "cell_type": "code",
   "execution_count": 8,
   "id": "97aef71c",
   "metadata": {},
   "outputs": [],
   "source": [
    "QiskitRuntimeService.save_account(channel='ibm_quantum', token='a0ae3da9557c2593174ea52d7a82229eda14a3c37df3522b52aa4bbcfa09dbc58ae80f8d44ba401c3af457d6802799642148b270166af496e1d77aec9509db74')"
   ]
  },
  {
   "cell_type": "code",
   "execution_count": 9,
   "id": "dec2601e",
   "metadata": {},
   "outputs": [],
   "source": [
    "backend = service.backend(name= \"ibm_brisbane\")"
   ]
  },
  {
   "cell_type": "code",
   "execution_count": 10,
   "id": "efed5e29",
   "metadata": {},
   "outputs": [
    {
     "data": {
      "text/plain": [
       "127"
      ]
     },
     "execution_count": 10,
     "metadata": {},
     "output_type": "execute_result"
    }
   ],
   "source": [
    "backend.num_qubits"
   ]
  }
 ],
 "metadata": {
  "kernelspec": {
   "display_name": "cwq",
   "language": "python",
   "name": "python3"
  },
  "language_info": {
   "codemirror_mode": {
    "name": "ipython",
    "version": 3
   },
   "file_extension": ".py",
   "mimetype": "text/x-python",
   "name": "python",
   "nbconvert_exporter": "python",
   "pygments_lexer": "ipython3",
   "version": "3.13.2"
  }
 },
 "nbformat": 4,
 "nbformat_minor": 5
}
